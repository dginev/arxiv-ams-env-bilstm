{
 "cells": [
  {
   "cell_type": "code",
   "execution_count": 1,
   "metadata": {},
   "outputs": [
    {
     "name": "stderr",
     "output_type": "stream",
     "text": [
      "Using TensorFlow backend.\n"
     ]
    }
   ],
   "source": [
    "# Setup HAN prior running here:\n",
    "# $ git clone https://github.com/FlorisHoogenboom/keras-han-for-docla\n",
    "# $ cd keras-han-for-docla\n",
    "# $ pip install .\n",
    "\n",
    "import warnings\n",
    "import numpy as np\n",
    "import gc\n",
    "import json\n",
    "import h5py\n",
    "\n",
    "import tensorflow as tf\n",
    "from keras.utils.data_utils import get_file\n",
    "from keras.utils.np_utils import to_categorical\n",
    "from keras.preprocessing import sequence\n",
    "from keras.preprocessing.sequence import _remove_long_seq\n",
    "from keras.models import Sequential\n",
    "from keras.layers import Embedding, Input, Dense, Dropout\n",
    "from keras import metrics\n",
    "from keras import backend as K\n",
    "from keras.callbacks import ModelCheckpoint, EarlyStopping\n",
    "from keras_han.model import HAN\n",
    "from sklearn.metrics import classification_report\n",
    "from sklearn.utils.class_weight import compute_class_weight\n",
    "from sklearn.model_selection import train_test_split\n",
    "\n",
    "gpu_options = tf.GPUOptions(\n",
    "    per_process_gpu_memory_fraction=0.95, allow_growth=False)\n",
    "config = tf.ConfigProto(intra_op_parallelism_threads=16,\n",
    "                        inter_op_parallelism_threads=16, allow_soft_placement=True, gpu_options=gpu_options)\n",
    "session = tf.Session(config=config)\n",
    "K.set_session(session)\n"
   ]
  },
  {
   "cell_type": "code",
   "execution_count": 2,
   "metadata": {},
   "outputs": [],
   "source": [
    "    # For details on this confusion map problem redefinition, see:\n",
    "    # https://github.com/dginev/arxiv-ams-paragraph-classification/blob/master/EXPERIMENT.md\n",
    "    # Assumption: final label choice, setup_labels == \"confusion-envs-v3\":\n",
    "    confusion_map = {\n",
    "        # 0: drop,  # abstract, unclear separation with introduction?\n",
    "        1: 0,  # acknowledgement\n",
    "        # 2: drop, # algorithm, bad data\n",
    "        # 3: drop, # POST2: drop, too correlated with proposition  # POST: assumption, # 0.77 assumption but \"condition\" seems hard to separate\n",
    "        # 4: drop # caption, bad data\n",
    "        5: 1,  # case + proof + step\n",
    "        # 6: drop, # POST2: drop, too correlated with proof, proposition, example  # conclusion + discussion + remark\n",
    "        # 7: drop,  # POST: condition\n",
    "        8: 2,  # lemma + theorem + corollary + proposition + conjecture + fact\n",
    "        9: 2,  # lemma + theorem + corollary + proposition + conjecture + fact\n",
    "        10: 3,  # POST: definition\n",
    "        # 11: drop, #POST2  # conclusion + discussion + remark\n",
    "        12: 4,  # example\n",
    "        13: 2,  # lemma + theorem + corollary + proposition + conjecture + fact\n",
    "        14: 5,  # introduction\n",
    "        15: 2,  # lemma + theorem + corollary + proposition + conjecture + fact\n",
    "        # 16: drop,  # method, too correlated\n",
    "        # 17: drop,  #POST: notation is too noisy / corellated with proof, drop\n",
    "        # 18: drop, other class\n",
    "        # 19: drop, paragraph seems badly separable\n",
    "        20: 6,  # POST: problem\n",
    "        21: 1,  # case + proof + step\n",
    "        22: 2,  # lemma + theorem + corollary + proposition + conjecture + fact\n",
    "        # 23: drop, POST: question too correlated with definition? # problem + question\n",
    "        24: 7,  # related work\n",
    "        # 25: drop, # POST 2  # conclusion + discussion + remark\n",
    "        # 26: drop,  # result, too correlated\n",
    "        27: 1,  # case + proof + step\n",
    "        28: 2,  # lemma + theorem + corollary + proposition + conjecture + fact\n",
    "    }\n",
    "    # Classes v1:\n",
    "    # 0 - acknowledgement\n",
    "    # 1 - assumption = assumption + condition\n",
    "    # 2 - proof = case + proof + step\n",
    "    # 3 - remark = conclusion + discussion + remark\n",
    "    # 4 - proposition = lemma + theorem + corollary + proposition + conjecture + fact\n",
    "    # 5 - definition = definition + notation\n",
    "    # 6 - example\n",
    "    # 7 - introduction\n",
    "    # 8 - problem = problem + question\n",
    "    # 9 - related work\n",
    "    # drop - abstract + algorithm + caption + method + other + paragraph + result\n",
    "\n",
    "    # classes v3:\n",
    "    # 0 - acknowledgement\n",
    "    # 1 - proof = case + proof + step\n",
    "    # 2 - proposition = lemma + theorem + corollary + proposition + conjecture + fact\n",
    "    # 3 - definition\n",
    "    # 4 - example\n",
    "    # 5 - introduction\n",
    "    # 6 - problem\n",
    "    # 7 - related work\n"
   ]
  },
  {
   "cell_type": "code",
   "execution_count": 3,
   "metadata": {},
   "outputs": [],
   "source": [
    "# Data-management before main training\n",
    "MAX_WORDS_PER_SENT = 20\n",
    "MAX_SENT = 24\n",
    "\n",
    "def load_data(path='data/sandbox_ams_1k.npz',  # _1m\n",
    "              test_split=0.2, seed=521, shuffle=True,\n",
    "              max_per_class=1_000_000,\n",
    "              **kwargs):\n",
    "    \"\"\"Loads the sandbox of AMS paragraph data, as prepared by `sandbox_data_for_keras.py`\n",
    "       and adapts it for use by Keras, with additional preprocessing where needed\n",
    "\n",
    "    # Returns\n",
    "        List containing train-test split of inputs\n",
    "        Four arrays: `x_train, y_train, x_test, y_test`.\n",
    "\n",
    "    Words that were not seen in the training set but are in the test set\n",
    "    have simply been skipped.\n",
    "    \"\"\"\n",
    "\n",
    "    print('-- loading data...')\n",
    "    xs, labels = [], []\n",
    "    with np.load(path) as f:\n",
    "        xs, labels = f['x'].tolist(), f['y'].tolist()\n",
    "    \n",
    "    other_label = len(set(confusion_map.values()))\n",
    "    label_summary = dict.fromkeys(range(0, 28), 0)\n",
    "    print(\"-- reducing to %d label classes\" % (other_label))\n",
    "    iterations = 0\n",
    "    xs_reduced = []\n",
    "    labels_reduced = []\n",
    "    while len(labels) > 0:\n",
    "        iterations += 1\n",
    "        x = xs.pop()\n",
    "        label = labels.pop()\n",
    "        if iterations % 1_000_000 == 0:\n",
    "            print(\"-- %d iterations\" % iterations)\n",
    "        if label in confusion_map:\n",
    "            mapped_label = confusion_map[label]\n",
    "            if label_summary[mapped_label] < max_per_class:\n",
    "                # Also reshape x to a \"24 sentences of 20 words\" shape\n",
    "                x = np.array(x).reshape(24,20)\n",
    "                xs_reduced.append(x)\n",
    "                labels_reduced.append(mapped_label)\n",
    "                label_summary[mapped_label] += 1\n",
    "    print(\"-- assigning to arrays\")\n",
    "    xs = np.array(xs_reduced)\n",
    "    xs_reduced = []\n",
    "    labels = np.array(labels_reduced)\n",
    "    labels_reduced = []\n",
    "    gc.collect()\n",
    "    print(\"loaded %d paragagraphs and %d labels\" % (len(xs), len(labels)))\n",
    "\n",
    "    if shuffle:\n",
    "        print(\"-- shuffling data...\")\n",
    "        np.random.seed(seed)\n",
    "        indices = np.arange(len(xs))\n",
    "        np.random.shuffle(indices)\n",
    "\n",
    "        xs = xs[indices]\n",
    "        labels = labels[indices]\n",
    "        gc.collect()\n",
    "\n",
    "    # Might as well report a summary of what is in the labels...      \n",
    "    label_summary = {k: v for k, v in label_summary.items() if v > 0}\n",
    "    print(\"-- Label summary: \", label_summary)\n",
    "\n",
    "    print(\"-- performing train/test cutoff\")\n",
    "    return train_test_split(xs, labels, stratify=labels, test_size=test_split)\n",
    "\n",
    "\n",
    "def get_word_index():\n",
    "    f = open('data/ams_word_index.json')\n",
    "    data = json.load(f)\n",
    "    f.close()\n",
    "    return data\n",
    "\n",
    "\n",
    "def load_vocab():\n",
    "    with open('data/ams_word_index.json') as json_data:\n",
    "        return json.load(json_data)\n",
    "\n",
    "    \n",
    "def load_glove():\n",
    "    glove = {}\n",
    "    with open('data/glove.model.txt') as glove_data:\n",
    "        for line in glove_data:\n",
    "            items = line.split()\n",
    "            key = items[0]\n",
    "            glove[key] = np.asarray(items[1:], dtype='float32')\n",
    "    return glove\n",
    "\n",
    "\n",
    "def build_embedding_matrix(vocab_dim=300):\n",
    "    print(\"-- loading word embeddings, this may take a little while...\")\n",
    "    index_dict = load_vocab()\n",
    "    word_vectors = load_glove()\n",
    "    # adding 1 to account for 0th index (for masking)\n",
    "    n_symbols = len(index_dict) + 1\n",
    "    print(\"-- known dictionary items: \", n_symbols)\n",
    "    embedding_weights = np.zeros((n_symbols, vocab_dim))\n",
    "    embedding_weights[0] = 0\n",
    "    for word, index in index_dict.items():\n",
    "        embedding_weights[index, :] = word_vectors[word]\n",
    "    return embedding_weights"
   ]
  },
  {
   "cell_type": "code",
   "execution_count": 4,
   "metadata": {},
   "outputs": [
    {
     "name": "stdout",
     "output_type": "stream",
     "text": [
      "-- loading data...\n",
      "-- reducing to 8 label classes\n",
      "-- 1000000 iterations\n",
      "-- 2000000 iterations\n",
      "-- 3000000 iterations\n",
      "-- 4000000 iterations\n",
      "-- 5000000 iterations\n",
      "-- 6000000 iterations\n",
      "-- 7000000 iterations\n",
      "-- assigning to arrays\n",
      "loaded 3058036 paragagraphs and 3058036 labels\n",
      "-- Label summary:  {0: 44997, 1: 1000000, 2: 1000000, 3: 707396, 4: 257868, 5: 15081, 6: 30843, 7: 1851}\n",
      "-- performing train/test cutoff\n",
      "x_train shape: (2446428, 24, 20)\n",
      "x_test shape: (611608, 24, 20)\n",
      "y_train shape: (2446428,)\n",
      "y_test shape: (611608,)\n"
     ]
    }
   ],
   "source": [
    "# Eager-Load the data\n",
    "gc.collect()\n",
    "\n",
    "x_train, x_test, y_train, y_test = load_data(path=\"data/sandbox_ams_1m.npz\", shuffle=False)\n",
    "\n",
    "y_train = np.array(y_train)\n",
    "y_test = np.array(y_test)\n",
    "print('x_train shape:', x_train.shape)\n",
    "print('x_test shape:', x_test.shape)\n",
    "print('y_train shape:', y_train.shape)\n",
    "print('y_test shape:', y_test.shape)\n",
    "\n",
    "#"
   ]
  },
  {
   "cell_type": "code",
   "execution_count": 5,
   "metadata": {},
   "outputs": [
    {
     "name": "stdout",
     "output_type": "stream",
     "text": [
      "-- loading word embeddings, this may take a little while...\n",
      "-- known dictionary items:  1000296\n"
     ]
    }
   ],
   "source": [
    "# preparing word embeddings\n",
    "class_weights = compute_class_weight('balanced', np.unique(y_train), y_train)\n",
    "# 08.2018 (subformula lexemes)\n",
    "# Analyzing the arxiv dataset seems to indicate \n",
    "#   a maxlen of 960 is needed to fit 99.2% of the data\n",
    "#   a maxlen of 480 fits 96.03%, and a maxlen of 300 covers 90.0% of paragraphs\n",
    "embedding_matrix = build_embedding_matrix(vocab_dim=300)"
   ]
  },
  {
   "cell_type": "code",
   "execution_count": 10,
   "metadata": {},
   "outputs": [
    {
     "name": "stdout",
     "output_type": "stream",
     "text": [
      "-- setting up model layout...\n",
      "_________________________________________________________________\n",
      "Layer (type)                 Output Shape              Param #   \n",
      "=================================================================\n",
      "input_4 (InputLayer)         (None, 24, 20)            0         \n",
      "_________________________________________________________________\n",
      "word_encoder (TimeDistribute (None, 24, 20, 300)       300494700 \n",
      "_________________________________________________________________\n",
      "word_attention (TimeDistribu (None, 24, 300)           30100     \n",
      "_________________________________________________________________\n",
      "sentence_encoder (Model)     (None, 24, 300)           405900    \n",
      "_________________________________________________________________\n",
      "sentence_attention (Attentio (None, 300)               30100     \n",
      "_________________________________________________________________\n",
      "class_prediction (Dense)     (None, 8)                 2408      \n",
      "=================================================================\n",
      "Total params: 300,963,208\n",
      "Trainable params: 874,408\n",
      "Non-trainable params: 300,088,800\n",
      "_________________________________________________________________\n",
      "None\n"
     ]
    }
   ],
   "source": [
    "# HAN Model Setup\n",
    "print(\"-- setting up model layout...\")\n",
    "n_classes = 8\n",
    "\n",
    "model = HAN(\n",
    "    MAX_WORDS_PER_SENT, MAX_SENT, n_classes, embedding_matrix,\n",
    "    word_encoding_dim=300, sentence_encoding_dim=300\n",
    ")\n",
    "\n",
    "model.compile(loss='sparse_categorical_crossentropy',\n",
    "              optimizer=\"adam\",\n",
    "              weighted_metrics=[metrics.sparse_categorical_accuracy])\n",
    "\n",
    "# Print model summary\n",
    "print(model.summary())"
   ]
  },
  {
   "cell_type": "code",
   "execution_count": 11,
   "metadata": {},
   "outputs": [],
   "source": [
    "batch_size = 64\n",
    "model_file = \"han_batch%d_cat%d_gpu\" % (\n",
    "    batch_size, n_classes)\n",
    "\n",
    "# Checkpoints: 1) save best model at epoch end, 2) stop early when metric stops improving\n",
    "earlystop = EarlyStopping(monitor='val_weighted_sparse_categorical_accuracy',\n",
    "                          min_delta=0.001,\n",
    "                          patience=3,\n",
    "                          verbose=0, mode='auto')"
   ]
  },
  {
   "cell_type": "code",
   "execution_count": 12,
   "metadata": {},
   "outputs": [
    {
     "name": "stdout",
     "output_type": "stream",
     "text": [
      "-- training model...\n",
      "Train on 1957142 samples, validate on 489286 samples\n",
      "Epoch 1/50\n",
      "1957142/1957142 [==============================] - 2872s 1ms/step - loss: 0.2961 - weighted_sparse_categorical_accuracy: 0.9016 - val_loss: 0.2573 - val_weighted_sparse_categorical_accuracy: 0.9153\n",
      "Epoch 2/50\n",
      "1957142/1957142 [==============================] - 2871s 1ms/step - loss: 0.2441 - weighted_sparse_categorical_accuracy: 0.9198 - val_loss: 0.2517 - val_weighted_sparse_categorical_accuracy: 0.9170\n",
      "Epoch 3/50\n",
      "1957142/1957142 [==============================] - 2879s 1ms/step - loss: 0.2313 - weighted_sparse_categorical_accuracy: 0.9239 - val_loss: 0.2486 - val_weighted_sparse_categorical_accuracy: 0.9181\n",
      "Epoch 4/50\n",
      "1957142/1957142 [==============================] - 2878s 1ms/step - loss: 0.2255 - weighted_sparse_categorical_accuracy: 0.9259 - val_loss: 0.2521 - val_weighted_sparse_categorical_accuracy: 0.9171\n",
      "Epoch 5/50\n",
      "1957142/1957142 [==============================] - 2856s 1ms/step - loss: 0.2233 - weighted_sparse_categorical_accuracy: 0.9264 - val_loss: 0.2542 - val_weighted_sparse_categorical_accuracy: 0.9174\n",
      "Epoch 6/50\n",
      "1957142/1957142 [==============================] - 2880s 1ms/step - loss: 0.2238 - weighted_sparse_categorical_accuracy: 0.9260 - val_loss: 0.2595 - val_weighted_sparse_categorical_accuracy: 0.9145\n"
     ]
    },
    {
     "data": {
      "text/plain": [
       "<keras.callbacks.History at 0x7f3cc46f1b70>"
      ]
     },
     "execution_count": 12,
     "metadata": {},
     "output_type": "execute_result"
    }
   ],
   "source": [
    "# Perform training\n",
    "print('-- training model...')\n",
    "model.fit(x_train, y_train,\n",
    "          batch_size=batch_size,\n",
    "          class_weight=class_weights,\n",
    "          epochs=50,\n",
    "          verbose=1,\n",
    "          callbacks=[earlystop],\n",
    "          validation_split=0.2)\n"
   ]
  },
  {
   "cell_type": "code",
   "execution_count": 13,
   "metadata": {},
   "outputs": [
    {
     "name": "stdout",
     "output_type": "stream",
     "text": [
      "-- saving model weights to disk : han_batch64_cat8_gpu \n"
     ]
    }
   ],
   "source": [
    "# save model weights\n",
    "# CAUTION: a regular model .save, including a checkpoint, seemed to produce an error??\n",
    "#          .save_weights works better...\n",
    "print(\"-- saving model weights to disk : %s \" % model_file)\n",
    "model.save_weights(model_file+'_notebook.h5')"
   ]
  },
  {
   "cell_type": "code",
   "execution_count": 14,
   "metadata": {
    "scrolled": true
   },
   "outputs": [
    {
     "name": "stdout",
     "output_type": "stream",
     "text": [
      "Per-class test measures:\n",
      "611608/611608 [==============================] - 334s 547us/step\n",
      "              precision    recall  f1-score   support\n",
      "\n",
      "           0       1.00      0.99      1.00      9000\n",
      "           1       0.93      0.94      0.94    200000\n",
      "           2       0.91      0.94      0.92    200000\n",
      "           3       0.93      0.91      0.92    141479\n",
      "           4       0.82      0.73      0.77     51574\n",
      "           5       0.78      0.75      0.76      3016\n",
      "           6       0.83      0.78      0.80      6169\n",
      "           7       0.60      0.83      0.70       370\n",
      "\n",
      "   micro avg       0.91      0.91      0.91    611608\n",
      "   macro avg       0.85      0.86      0.85    611608\n",
      "weighted avg       0.91      0.91      0.91    611608\n",
      "\n"
     ]
    }
   ],
   "source": [
    "print(\"Per-class test measures:\")\n",
    "y_prob = model.predict(x_test, batch_size=batch_size, verbose=1)\n",
    "y_pred = y_prob.argmax(axis=-1)\n",
    "\n",
    "print(classification_report(y_test, y_pred))\n"
   ]
  },
  {
   "cell_type": "markdown",
   "metadata": {},
   "source": [
    "Note that the data of 480 max-words per paragraph is reshaped to a fixed 24 sentences of 20 words each (padded with 0 for missing entries), and hence does *not* use the real sentence breaks from tokenization - a possible direction for improvement.\n",
    "\n",
    "## Per-class test measures, model han_batch64_cat8_gpu (dim 300):\n",
    "\n",
    " - With 1k sandbox: F1 0.83 on test data, but training data was fully overfit (100% accuracy).\n",
    " - With 1 million class-max, 2.44 million training paragraphs, 0.6 million test paragraphs.\n",
    "   - weighted F1-score of 0.91 on test data.\n",
    "   - (training validation at accuracy 0.9145, after 6 epochs)\n",
    "\n",
    "```\n",
    "Per-class test measures:\n",
    "611608/611608 [==============================] - 334s 547us/step\n",
    "                 precision    recall  f1-score   support\n",
    "\n",
    "acknowledgement       1.00      0.99      1.00      9000\n",
    "          proof       0.93      0.94      0.94    200000\n",
    "    proposition       0.91      0.94      0.92    200000\n",
    "     definition       0.93      0.91      0.92    141479\n",
    "        example       0.82      0.73      0.77     51574\n",
    "   introduction       0.78      0.75      0.76      3016\n",
    "        problem       0.83      0.78      0.80      6169\n",
    "   related work       0.60      0.83      0.70       370\n",
    "\n",
    "   micro avg       0.91      0.91      0.91    611608\n",
    "   macro avg       0.85      0.86      0.85    611608\n",
    "weighted avg       0.91      0.91      0.91    611608\n",
    "\n",
    "```\n",
    "     "
   ]
  },
  {
   "cell_type": "code",
   "execution_count": null,
   "metadata": {},
   "outputs": [],
   "source": []
  }
 ],
 "metadata": {
  "kernelspec": {
   "display_name": "Python 3",
   "language": "python",
   "name": "python3"
  },
  "language_info": {
   "codemirror_mode": {
    "name": "ipython",
    "version": 3
   },
   "file_extension": ".py",
   "mimetype": "text/x-python",
   "name": "python",
   "nbconvert_exporter": "python",
   "pygments_lexer": "ipython3",
   "version": "3.7.3"
  }
 },
 "nbformat": 4,
 "nbformat_minor": 2
}
